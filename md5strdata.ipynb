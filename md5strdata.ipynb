{
  "nbformat": 4,
  "nbformat_minor": 0,
  "metadata": {
    "colab": {
      "name": "Untitled3.ipynb",
      "provenance": []
    },
    "kernelspec": {
      "name": "python3",
      "display_name": "Python 3"
    },
    "language_info": {
      "name": "python"
    }
  },
  "cells": [
    {
      "cell_type": "code",
      "metadata": {
        "id": "2n4JEiEdy5PC",
        "colab": {
          "base_uri": "https://localhost:8080/"
        },
        "outputId": "8b3b58e7-0e06-4fdf-9175-bd5151f28416"
      },
      "source": [
        "import hashlib\n",
        "hash_obj = hashlib.md5(b'Hello World')\n",
        "print(hash_obj.hexdigest())"
      ],
      "execution_count": 1,
      "outputs": [
        {
          "output_type": "stream",
          "text": [
            "b10a8db164e0754105b7a99be72e3fe5\n"
          ],
          "name": "stdout"
        }
      ]
    }
  ]
}